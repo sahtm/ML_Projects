{
 "cells": [
  {
   "cell_type": "code",
   "execution_count": 1,
   "id": "bce47d54",
   "metadata": {},
   "outputs": [],
   "source": [
    "import numpy as np"
   ]
  },
  {
   "cell_type": "code",
   "execution_count": 2,
   "id": "bc9d1cc0",
   "metadata": {},
   "outputs": [],
   "source": [
    "import pandas as pd"
   ]
  },
  {
   "cell_type": "code",
   "execution_count": 3,
   "id": "c4bd6460",
   "metadata": {},
   "outputs": [],
   "source": [
    "import seaborn as sns"
   ]
  },
  {
   "cell_type": "code",
   "execution_count": 4,
   "id": "ec7aa5f0",
   "metadata": {},
   "outputs": [],
   "source": [
    "from matplotlib import pyplot as plt"
   ]
  },
  {
   "cell_type": "code",
   "execution_count": 5,
   "id": "3fab8ce9",
   "metadata": {},
   "outputs": [],
   "source": [
    "data = pd.read_csv(r\"C:\\Users\\pc\\Downloads\\DataSets-master (1)\\DataSets-master\\500_Person_Gender_Height_Weight_Index.csv\")"
   ]
  },
  {
   "cell_type": "code",
   "execution_count": 6,
   "id": "c342969d",
   "metadata": {},
   "outputs": [
    {
     "data": {
      "text/html": [
       "<div>\n",
       "<style scoped>\n",
       "    .dataframe tbody tr th:only-of-type {\n",
       "        vertical-align: middle;\n",
       "    }\n",
       "\n",
       "    .dataframe tbody tr th {\n",
       "        vertical-align: top;\n",
       "    }\n",
       "\n",
       "    .dataframe thead th {\n",
       "        text-align: right;\n",
       "    }\n",
       "</style>\n",
       "<table border=\"1\" class=\"dataframe\">\n",
       "  <thead>\n",
       "    <tr style=\"text-align: right;\">\n",
       "      <th></th>\n",
       "      <th>Gender</th>\n",
       "      <th>Height</th>\n",
       "      <th>Weight</th>\n",
       "      <th>Index</th>\n",
       "    </tr>\n",
       "  </thead>\n",
       "  <tbody>\n",
       "    <tr>\n",
       "      <th>0</th>\n",
       "      <td>Male</td>\n",
       "      <td>174</td>\n",
       "      <td>96</td>\n",
       "      <td>4</td>\n",
       "    </tr>\n",
       "    <tr>\n",
       "      <th>1</th>\n",
       "      <td>Male</td>\n",
       "      <td>189</td>\n",
       "      <td>87</td>\n",
       "      <td>2</td>\n",
       "    </tr>\n",
       "    <tr>\n",
       "      <th>2</th>\n",
       "      <td>Female</td>\n",
       "      <td>185</td>\n",
       "      <td>110</td>\n",
       "      <td>4</td>\n",
       "    </tr>\n",
       "    <tr>\n",
       "      <th>3</th>\n",
       "      <td>Female</td>\n",
       "      <td>195</td>\n",
       "      <td>104</td>\n",
       "      <td>3</td>\n",
       "    </tr>\n",
       "    <tr>\n",
       "      <th>4</th>\n",
       "      <td>Male</td>\n",
       "      <td>149</td>\n",
       "      <td>61</td>\n",
       "      <td>3</td>\n",
       "    </tr>\n",
       "  </tbody>\n",
       "</table>\n",
       "</div>"
      ],
      "text/plain": [
       "   Gender  Height  Weight  Index\n",
       "0    Male     174      96      4\n",
       "1    Male     189      87      2\n",
       "2  Female     185     110      4\n",
       "3  Female     195     104      3\n",
       "4    Male     149      61      3"
      ]
     },
     "execution_count": 6,
     "metadata": {},
     "output_type": "execute_result"
    }
   ],
   "source": [
    "data.head()"
   ]
  },
  {
   "cell_type": "code",
   "execution_count": 7,
   "id": "b95adf9c",
   "metadata": {},
   "outputs": [
    {
     "data": {
      "text/html": [
       "<div>\n",
       "<style scoped>\n",
       "    .dataframe tbody tr th:only-of-type {\n",
       "        vertical-align: middle;\n",
       "    }\n",
       "\n",
       "    .dataframe tbody tr th {\n",
       "        vertical-align: top;\n",
       "    }\n",
       "\n",
       "    .dataframe thead th {\n",
       "        text-align: right;\n",
       "    }\n",
       "</style>\n",
       "<table border=\"1\" class=\"dataframe\">\n",
       "  <thead>\n",
       "    <tr style=\"text-align: right;\">\n",
       "      <th></th>\n",
       "      <th>count</th>\n",
       "      <th>mean</th>\n",
       "      <th>std</th>\n",
       "      <th>min</th>\n",
       "      <th>25%</th>\n",
       "      <th>50%</th>\n",
       "      <th>75%</th>\n",
       "      <th>max</th>\n",
       "    </tr>\n",
       "  </thead>\n",
       "  <tbody>\n",
       "    <tr>\n",
       "      <th>Height</th>\n",
       "      <td>500.0</td>\n",
       "      <td>169.944</td>\n",
       "      <td>16.375261</td>\n",
       "      <td>140.0</td>\n",
       "      <td>156.0</td>\n",
       "      <td>170.5</td>\n",
       "      <td>184.0</td>\n",
       "      <td>199.0</td>\n",
       "    </tr>\n",
       "    <tr>\n",
       "      <th>Weight</th>\n",
       "      <td>500.0</td>\n",
       "      <td>106.000</td>\n",
       "      <td>32.382607</td>\n",
       "      <td>50.0</td>\n",
       "      <td>80.0</td>\n",
       "      <td>106.0</td>\n",
       "      <td>136.0</td>\n",
       "      <td>160.0</td>\n",
       "    </tr>\n",
       "    <tr>\n",
       "      <th>Index</th>\n",
       "      <td>500.0</td>\n",
       "      <td>3.748</td>\n",
       "      <td>1.355053</td>\n",
       "      <td>0.0</td>\n",
       "      <td>3.0</td>\n",
       "      <td>4.0</td>\n",
       "      <td>5.0</td>\n",
       "      <td>5.0</td>\n",
       "    </tr>\n",
       "  </tbody>\n",
       "</table>\n",
       "</div>"
      ],
      "text/plain": [
       "        count     mean        std    min    25%    50%    75%    max\n",
       "Height  500.0  169.944  16.375261  140.0  156.0  170.5  184.0  199.0\n",
       "Weight  500.0  106.000  32.382607   50.0   80.0  106.0  136.0  160.0\n",
       "Index   500.0    3.748   1.355053    0.0    3.0    4.0    5.0    5.0"
      ]
     },
     "execution_count": 7,
     "metadata": {},
     "output_type": "execute_result"
    }
   ],
   "source": [
    "data.describe().T"
   ]
  },
  {
   "cell_type": "code",
   "execution_count": 8,
   "id": "f50e5411",
   "metadata": {},
   "outputs": [
    {
     "name": "stdout",
     "output_type": "stream",
     "text": [
      "<class 'pandas.core.frame.DataFrame'>\n",
      "RangeIndex: 500 entries, 0 to 499\n",
      "Data columns (total 4 columns):\n",
      " #   Column  Non-Null Count  Dtype \n",
      "---  ------  --------------  ----- \n",
      " 0   Gender  500 non-null    object\n",
      " 1   Height  500 non-null    int64 \n",
      " 2   Weight  500 non-null    int64 \n",
      " 3   Index   500 non-null    int64 \n",
      "dtypes: int64(3), object(1)\n",
      "memory usage: 15.8+ KB\n"
     ]
    }
   ],
   "source": [
    "data.info()"
   ]
  },
  {
   "cell_type": "code",
   "execution_count": 9,
   "id": "1bad34f7",
   "metadata": {},
   "outputs": [
    {
     "data": {
      "image/png": "[encoded data removed]",
      "text/plain": [
       "<Figure size 432x288 with 1 Axes>"
      ]
     },
     "metadata": {
      "needs_background": "light"
     },
     "output_type": "display_data"
    }
   ],
   "source": [
    "sns.countplot(x=\"Gender\",data=data,hue=\"Index\")\n",
    "plt.show()"
   ]
  },
  {
   "cell_type": "markdown",
   "id": "d199a23b",
   "metadata": {},
   "source": [
    "# counting male and female"
   ]
  },
  {
   "cell_type": "code",
   "execution_count": 10,
   "id": "9f355f9c",
   "metadata": {},
   "outputs": [],
   "source": [
    "gen = data[\"Gender\"].value_counts()"
   ]
  },
  {
   "cell_type": "code",
   "execution_count": 11,
   "id": "b968ecc6",
   "metadata": {},
   "outputs": [
    {
     "data": {
      "text/plain": [
       "255"
      ]
     },
     "execution_count": 11,
     "metadata": {},
     "output_type": "execute_result"
    }
   ],
   "source": [
    "gen.values[0]"
   ]
  },
  {
   "cell_type": "code",
   "execution_count": 12,
   "id": "c82acfed",
   "metadata": {},
   "outputs": [
    {
     "data": {
      "text/plain": [
       "numpy.int64"
      ]
     },
     "execution_count": 12,
     "metadata": {},
     "output_type": "execute_result"
    }
   ],
   "source": [
    "type(gen.values[0])"
   ]
  },
  {
   "cell_type": "markdown",
   "id": "9b63e7f1",
   "metadata": {},
   "source": [
    "# Separation between feature and target"
   ]
  },
  {
   "cell_type": "code",
   "execution_count": 13,
   "id": "1074c6be",
   "metadata": {},
   "outputs": [],
   "source": [
    "fea = data.iloc[:,:3]\n",
    "tar = data.iloc[:,3]"
   ]
  },
  {
   "cell_type": "code",
   "execution_count": 14,
   "id": "a64c63b3",
   "metadata": {},
   "outputs": [
    {
     "data": {
      "text/plain": [
       "pandas.core.series.Series"
      ]
     },
     "execution_count": 14,
     "metadata": {},
     "output_type": "execute_result"
    }
   ],
   "source": [
    "type(tar)\n"
   ]
  },
  {
   "cell_type": "code",
   "execution_count": 15,
   "id": "a84db705",
   "metadata": {},
   "outputs": [
    {
     "data": {
      "text/plain": [
       "pandas.core.frame.DataFrame"
      ]
     },
     "execution_count": 15,
     "metadata": {},
     "output_type": "execute_result"
    }
   ],
   "source": [
    "type(fea)"
   ]
  },
  {
   "cell_type": "markdown",
   "id": "47db3553",
   "metadata": {},
   "source": [
    "# replace {male:1,female:0}"
   ]
  },
  {
   "cell_type": "code",
   "execution_count": 16,
   "id": "d28e4e01",
   "metadata": {},
   "outputs": [],
   "source": [
    "fea.Gender = fea.Gender.map({\"Male\":1,\"Female\":0}) "
   ]
  },
  {
   "cell_type": "code",
   "execution_count": 17,
   "id": "4ab6acdf",
   "metadata": {},
   "outputs": [
    {
     "data": {
      "text/plain": [
       "0    255\n",
       "1    245\n",
       "Name: Gender, dtype: int64"
      ]
     },
     "execution_count": 17,
     "metadata": {},
     "output_type": "execute_result"
    }
   ],
   "source": [
    "fea[\"Gender\"].value_counts()"
   ]
  },
  {
   "cell_type": "markdown",
   "id": "39d6108f",
   "metadata": {},
   "source": [
    "# converting series, data frame into array"
   ]
  },
  {
   "cell_type": "code",
   "execution_count": 18,
   "id": "6426bce4",
   "metadata": {},
   "outputs": [],
   "source": [
    "fea = fea.values\n",
    "tar = tar.values"
   ]
  },
  {
   "cell_type": "code",
   "execution_count": 19,
   "id": "897f3d64",
   "metadata": {},
   "outputs": [
    {
     "data": {
      "text/plain": [
       "numpy.ndarray"
      ]
     },
     "execution_count": 19,
     "metadata": {},
     "output_type": "execute_result"
    }
   ],
   "source": [
    "type(fea)"
   ]
  },
  {
   "cell_type": "markdown",
   "id": "1cae928b",
   "metadata": {},
   "source": [
    "# spliting into 70:30 (train & test)"
   ]
  },
  {
   "cell_type": "code",
   "execution_count": 20,
   "id": "ba00d612",
   "metadata": {},
   "outputs": [],
   "source": [
    "n = int(len(data)*0.70)"
   ]
  },
  {
   "cell_type": "code",
   "execution_count": 21,
   "id": "f363ac92",
   "metadata": {},
   "outputs": [
    {
     "data": {
      "text/plain": [
       "int"
      ]
     },
     "execution_count": 21,
     "metadata": {},
     "output_type": "execute_result"
    }
   ],
   "source": [
    "type(n)"
   ]
  },
  {
   "cell_type": "code",
   "execution_count": 22,
   "id": "63c9aa9d",
   "metadata": {},
   "outputs": [],
   "source": [
    "fea_train = fea[:n]\n",
    "fea_test = fea[n:]\n",
    "tar_train = tar[:n]\n",
    "tar_test = tar[n:]"
   ]
  },
  {
   "cell_type": "code",
   "execution_count": 23,
   "id": "85a198a9",
   "metadata": {},
   "outputs": [
    {
     "name": "stdout",
     "output_type": "stream",
     "text": [
      " shape of fea_train is (350, 3) and shape of fea_test (150, 3)\n",
      " shape of tar_train is (350,) and shape of tar_test (150,)\n"
     ]
    }
   ],
   "source": [
    "print(\" shape of fea_train is {} and shape of fea_test {}\".format(fea_train.shape,fea_test.shape))\n",
    "print(\" shape of tar_train is {} and shape of tar_test {}\".format(tar_train.shape,tar_test.shape))"
   ]
  },
  {
   "cell_type": "markdown",
   "id": "2aa9fe1e",
   "metadata": {},
   "source": [
    "# training the model using knn algo"
   ]
  },
  {
   "cell_type": "code",
   "execution_count": 24,
   "id": "492f87fb",
   "metadata": {},
   "outputs": [],
   "source": [
    "from sklearn.neighbors import KNeighborsClassifier"
   ]
  },
  {
   "cell_type": "code",
   "execution_count": 25,
   "id": "c9ac1a6a",
   "metadata": {},
   "outputs": [],
   "source": [
    "knn_trainer = KNeighborsClassifier(n_neighbors=5)  # by_default\n",
    "knn_learner = knn_trainer.fit(fea_train,tar_train)"
   ]
  },
  {
   "cell_type": "code",
   "execution_count": 26,
   "id": "0e29f178",
   "metadata": {},
   "outputs": [
    {
     "data": {
      "text/plain": [
       "2    normal\n",
       "dtype: object"
      ]
     },
     "execution_count": 26,
     "metadata": {},
     "output_type": "execute_result"
    }
   ],
   "source": [
    "index_result = pd.Series([\"extremely weak\",\"weak\",\"normal\",\"overweight\",\"obesity\",\"extreme obesity\"])\n",
    "i = knn_learner.predict([[1,162,65]])\n",
    "index_result[i]\n"
   ]
  },
  {
   "cell_type": "markdown",
   "id": "eb650678",
   "metadata": {},
   "source": [
    "# testing the model (tar_test>>tar_p ) for fea_test"
   ]
  },
  {
   "cell_type": "code",
   "execution_count": 27,
   "id": "a4687afc",
   "metadata": {},
   "outputs": [],
   "source": [
    "tar_actual = tar_test\n",
    "tar_p = knn_learner.predict(fea_test)"
   ]
  },
  {
   "cell_type": "code",
   "execution_count": 28,
   "id": "79c4791e",
   "metadata": {},
   "outputs": [],
   "source": [
    "actual_vs_predict = pd.DataFrame({\"actual\":list(tar_actual),\"predicted\":list(tar_p)})"
   ]
  },
  {
   "cell_type": "code",
   "execution_count": 29,
   "id": "2715a2d2",
   "metadata": {},
   "outputs": [],
   "source": [
    "from sklearn.metrics import accuracy_score"
   ]
  },
  {
   "cell_type": "code",
   "execution_count": 30,
   "id": "ee8f2e01",
   "metadata": {},
   "outputs": [],
   "source": [
    "accuracy = accuracy_score(tar_p,tar_actual)"
   ]
  },
  {
   "cell_type": "code",
   "execution_count": 31,
   "id": "b1a5b7ea",
   "metadata": {},
   "outputs": [
    {
     "data": {
      "text/plain": [
       "0.9333333333333333"
      ]
     },
     "execution_count": 31,
     "metadata": {},
     "output_type": "execute_result"
    }
   ],
   "source": [
    "accuracy"
   ]
  },
  {
   "cell_type": "markdown",
   "id": "d6db630c",
   "metadata": {},
   "source": [
    "# finding maximum value of k and range"
   ]
  },
  {
   "cell_type": "code",
   "execution_count": 32,
   "id": "6a48315d",
   "metadata": {},
   "outputs": [],
   "source": [
    "kmax= int(np.sqrt(len(fea_train))) + 1     #because range is excluded type"
   ]
  },
  {
   "cell_type": "code",
   "execution_count": 33,
   "id": "4fe24126",
   "metadata": {},
   "outputs": [],
   "source": [
    "krange= list(range(1,kmax))"
   ]
  },
  {
   "cell_type": "code",
   "execution_count": 34,
   "id": "dd98d27f",
   "metadata": {},
   "outputs": [
    {
     "data": {
      "text/plain": [
       "[1, 2, 3, 4, 5, 6, 7, 8, 9, 10, 11, 12, 13, 14, 15, 16, 17, 18]"
      ]
     },
     "execution_count": 34,
     "metadata": {},
     "output_type": "execute_result"
    }
   ],
   "source": [
    "krange"
   ]
  },
  {
   "cell_type": "markdown",
   "id": "edfc2c97",
   "metadata": {},
   "source": [
    "# finding effective valuer of  k"
   ]
  },
  {
   "cell_type": "code",
   "execution_count": 35,
   "id": "61d6da54",
   "metadata": {},
   "outputs": [
    {
     "name": "stdout",
     "output_type": "stream",
     "text": [
      "accuracy of k1 is 0.9\n",
      "accuracy of k2 is 0.9133333333333333\n",
      "accuracy of k3 is 0.8933333333333333\n",
      "accuracy of k4 is 0.9333333333333333\n",
      "accuracy of k5 is 0.9133333333333333\n",
      "accuracy of k6 is 0.9133333333333333\n",
      "accuracy of k7 is 0.9133333333333333\n",
      "accuracy of k8 is 0.9066666666666666\n",
      "accuracy of k9 is 0.9266666666666666\n",
      "accuracy of k10 is 0.9066666666666666\n",
      "accuracy of k11 is 0.9\n",
      "accuracy of k12 is 0.92\n",
      "accuracy of k13 is 0.9133333333333333\n",
      "accuracy of k14 is 0.92\n",
      "accuracy of k15 is 0.88\n",
      "accuracy of k16 is 0.8933333333333333\n",
      "accuracy of k17 is 0.8933333333333333\n",
      "accuracy of k18 is 0.9066666666666666\n"
     ]
    }
   ],
   "source": [
    "acc_list = []\n",
    "for i in range(1,kmax):\n",
    "    knn_model = KNeighborsClassifier(n_neighbors=i)\n",
    "    model_learner = knn_model.fit(fea_train,tar_train)\n",
    "    ypmodel = model_learner.predict(fea_test)\n",
    "    model_acc = accuracy_score(tar_test,ypmodel)\n",
    "    print(\"accuracy of k{} is {}\".format(i,model_acc))\n",
    "    acc_list.append(model_acc)"
   ]
  },
  {
   "cell_type": "code",
   "execution_count": 36,
   "id": "0dd576cc",
   "metadata": {},
   "outputs": [
    {
     "name": "stdout",
     "output_type": "stream",
     "text": [
      "max accuracy is  0.9333333333333333\n",
      "k is   4\n"
     ]
    }
   ],
   "source": [
    "print(\"max accuracy is \",np.array(acc_list).max())\n",
    "print(\"k is  \",np.array(acc_list).argmax()+1)"
   ]
  },
  {
   "cell_type": "markdown",
   "id": "4179cbcc",
   "metadata": {},
   "source": [
    "# graph visualizing maximum value of k"
   ]
  },
  {
   "cell_type": "code",
   "execution_count": 37,
   "id": "503c2653",
   "metadata": {},
   "outputs": [
    {
     "data": {
      "image/png": "[encoded data removed]",
      "text/plain": [
       "<Figure size 432x288 with 1 Axes>"
      ]
     },
     "metadata": {
      "needs_background": "light"
     },
     "output_type": "display_data"
    }
   ],
   "source": [
    "plt.plot(krange,acc_list,'g>')\n",
    "plt.plot(krange,acc_list)\n",
    "plt.xlabel(\"k\")\n",
    "plt.ylabel(\"accuracy\")\n",
    "plt.show()"
   ]
  },
  {
   "cell_type": "markdown",
   "id": "826195cd",
   "metadata": {},
   "source": [
    "# putting accurate value of k "
   ]
  },
  {
   "cell_type": "code",
   "execution_count": 41,
   "id": "cd3bc145",
   "metadata": {},
   "outputs": [
    {
     "data": {
      "text/plain": [
       "'normal'"
      ]
     },
     "execution_count": 41,
     "metadata": {},
     "output_type": "execute_result"
    }
   ],
   "source": [
    "knn_trainer = KNeighborsClassifier(n_neighbors=4)  # by_default\n",
    "knn_learner = knn_trainer.fit(fea_train,tar_train)\n",
    "index_result = pd.Series([\"extremely weak\",\"weak\",\"normal\",\"overweight\",\"obesity\",\"extreme obesity\"])\n",
    "i = knn_learner.predict([[1,162,65]])\n",
    "index_result[i].values[0]"
   ]
  },
  {
   "cell_type": "markdown",
   "id": "622789a4",
   "metadata": {},
   "source": [
    "# now the updated accuracy"
   ]
  },
  {
   "cell_type": "code",
   "execution_count": 42,
   "id": "64e762f2",
   "metadata": {},
   "outputs": [],
   "source": [
    "tar_actual = tar_test\n",
    "tar_p = knn_learner.predict(fea_test)\n",
    "accuracy = accuracy_score(tar_p,tar_actual)"
   ]
  },
  {
   "cell_type": "code",
   "execution_count": 43,
   "id": "9ddccea1",
   "metadata": {},
   "outputs": [
    {
     "data": {
      "text/plain": [
       "0.9333333333333333"
      ]
     },
     "execution_count": 43,
     "metadata": {},
     "output_type": "execute_result"
    }
   ],
   "source": [
    "accuracy"
   ]
  },
  {
   "cell_type": "code",
   "execution_count": null,
   "id": "b7dbd30b",
   "metadata": {},
   "outputs": [],
   "source": []
  }
 ],
 "metadata": {
  "kernelspec": {
   "display_name": "Python 3 (ipykernel)",
   "language": "python",
   "name": "python3"
  },
  "language_info": {
   "codemirror_mode": {
    "name": "ipython",
    "version": 3
   },
   "file_extension": ".py",
   "mimetype": "text/x-python",
   "name": "python",
   "nbconvert_exporter": "python",
   "pygments_lexer": "ipython3",
   "version": "3.9.12"
  }
 },
 "nbformat": 4,
 "nbformat_minor": 5
}
