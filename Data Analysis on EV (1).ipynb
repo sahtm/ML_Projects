{
 "cells": [
  {
   "cell_type": "markdown",
   "id": "3da9f0b0",
   "metadata": {},
   "source": [
    "# Import necessary libraries"
   ]
  },
  {
   "cell_type": "code",
   "execution_count": null,
   "id": "96ec3989",
   "metadata": {},
   "outputs": [],
   "source": [
    "import pandas as pd\n",
    "import plotly.express as px\n",
    "import plotly.graph_objects as go"
   ]
  },
  {
   "cell_type": "markdown",
   "id": "ca1db3ba",
   "metadata": {},
   "source": [
    "# Read Dataset"
   ]
  },
  {
   "cell_type": "code",
   "execution_count": null,
   "id": "e38e190a",
   "metadata": {},
   "outputs": [],
   "source": [
    "df = pd.read_csv(r\"C:\\Users\\saura\\Downloads\\dataset.csv\")\n",
    "df.head()"
   ]
  },
  {
   "cell_type": "markdown",
   "id": "f29ddd31",
   "metadata": {},
   "source": [
    "# Basic Information about dataset"
   ]
  },
  {
   "cell_type": "code",
   "execution_count": null,
   "id": "ff3c0f05",
   "metadata": {},
   "outputs": [],
   "source": [
    "df.shape"
   ]
  },
  {
   "cell_type": "code",
   "execution_count": null,
   "id": "79044899",
   "metadata": {},
   "outputs": [],
   "source": [
    "df.info()"
   ]
  },
  {
   "cell_type": "code",
   "execution_count": null,
   "id": "fa3403bb",
   "metadata": {},
   "outputs": [],
   "source": [
    "df.isnull().sum()"
   ]
  },
  {
   "cell_type": "code",
   "execution_count": null,
   "id": "5dc700d5",
   "metadata": {},
   "outputs": [],
   "source": [
    "df.duplicated().sum()"
   ]
  },
  {
   "cell_type": "markdown",
   "id": "53162877",
   "metadata": {},
   "source": [
    "# Fix Missing Values\n",
    "* Model : This is a important variable so will think how to fix it (maybe mode).<br>\n",
    "* Legislative district : This var has too many diferent values too so there is no muich information out there.<br>\n",
    "* Vehicle Location : I think its not needed for the analysis (no much information).<br>\n",
    "* Electric Utility : This var has too many diferent values too so there is no muich information out there."
   ]
  },
  {
   "cell_type": "code",
   "execution_count": null,
   "id": "db237fb6",
   "metadata": {},
   "outputs": [],
   "source": [
    "df.fillna(df['Model'].mode(), inplace = True)"
   ]
  },
  {
   "cell_type": "code",
   "execution_count": null,
   "id": "0cbf8a4e",
   "metadata": {},
   "outputs": [],
   "source": [
    "df.drop(['Legislative District','Vehicle Location','Electric Utility'], axis =1, inplace = True)"
   ]
  },
  {
   "cell_type": "code",
   "execution_count": null,
   "id": "79e09178",
   "metadata": {},
   "outputs": [],
   "source": [
    "df.shape"
   ]
  },
  {
   "cell_type": "code",
   "execution_count": null,
   "id": "0731fae6",
   "metadata": {},
   "outputs": [],
   "source": [
    "df.isnull().sum()"
   ]
  },
  {
   "cell_type": "code",
   "execution_count": null,
   "id": "bc84ef4d",
   "metadata": {},
   "outputs": [],
   "source": [
    "df.nunique()"
   ]
  },
  {
   "cell_type": "markdown",
   "id": "22acbae7",
   "metadata": {},
   "source": [
    "# Scatter Plot "
   ]
  },
  {
   "cell_type": "code",
   "execution_count": null,
   "id": "7a11ac27",
   "metadata": {},
   "outputs": [],
   "source": [
    "fig = px.scatter(df, x=\"State\", y=\"Model\", color=\"Electric Vehicle Type\")\n",
    "fig.show()"
   ]
  },
  {
   "cell_type": "code",
   "execution_count": null,
   "id": "3c1d6243",
   "metadata": {},
   "outputs": [],
   "source": [
    "fig = px.scatter(df, x=\"State\", y=\"Model\", color=\"Clean Alternative Fuel Vehicle (CAFV) Eligibility\")\n",
    "fig.show()"
   ]
  },
  {
   "cell_type": "markdown",
   "id": "0c1607b8",
   "metadata": {},
   "source": [
    "# Pie Chart"
   ]
  },
  {
   "cell_type": "code",
   "execution_count": null,
   "id": "092b540d",
   "metadata": {},
   "outputs": [],
   "source": [
    "fig = px.pie(df,values='Electric Range', names='City', title='EV Made by')\n",
    "fig.show()"
   ]
  },
  {
   "cell_type": "markdown",
   "id": "cceaa5cf",
   "metadata": {},
   "source": [
    "# Box Plot"
   ]
  },
  {
   "cell_type": "code",
   "execution_count": null,
   "id": "10e91fa7",
   "metadata": {},
   "outputs": [],
   "source": [
    "fig = px.box(df, x=\"Make\", y=\"Electric Range\", color=\"Electric Vehicle Type\", notched=True)\n",
    "fig.show()"
   ]
  },
  {
   "cell_type": "code",
   "execution_count": null,
   "id": "fa65cc4e",
   "metadata": {},
   "outputs": [],
   "source": []
  }
 ],
 "metadata": {
  "kernelspec": {
   "display_name": "Python 3 (ipykernel)",
   "language": "python",
   "name": "python3"
  },
  "language_info": {
   "codemirror_mode": {
    "name": "ipython",
    "version": 3
   },
   "file_extension": ".py",
   "mimetype": "text/x-python",
   "name": "python",
   "nbconvert_exporter": "python",
   "pygments_lexer": "ipython3",
   "version": "3.9.13"
  }
 },
 "nbformat": 4,
 "nbformat_minor": 5
}
